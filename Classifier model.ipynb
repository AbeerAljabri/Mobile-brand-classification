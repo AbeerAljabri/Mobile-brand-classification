{
 "cells": [
  {
   "attachments": {},
   "cell_type": "markdown",
   "id": "13c98e44",
   "metadata": {},
   "source": [
    "## Project data scince \n",
    "students:\n",
    "\n",
    "1- Sara Alharbi \n",
    "2- Abeer Aljabri\n",
    "3- Noura Alangri"
   ]
  },
  {
   "cell_type": "code",
   "execution_count": 54,
   "id": "50606e98",
   "metadata": {},
   "outputs": [],
   "source": [
    "import pandas as pd\n",
    "from sklearn.model_selection import train_test_split\n",
    "from sklearn.preprocessing import StandardScaler\n",
    "from sklearn.linear_model import LogisticRegression\n",
    "from sklearn.svm import SVC\n",
    "from sklearn.tree import DecisionTreeClassifier\n",
    "from sklearn.ensemble import RandomForestClassifier\n",
    "from sklearn.metrics import classification_report, accuracy_score\n",
    "from sklearn.metrics import confusion_matrix\n",
    "import numpy as np"
   ]
  },
  {
   "cell_type": "code",
   "execution_count": 55,
   "id": "17063699",
   "metadata": {},
   "outputs": [],
   "source": [
    "# Read your CSV file\n",
    "data = pd.read_csv('dataset2.csv')"
   ]
  },
  {
   "cell_type": "code",
   "execution_count": 56,
   "id": "8932a2fb",
   "metadata": {},
   "outputs": [],
   "source": [
    "# Preprocess the data: convert categorical variables to numerical using one-hot encoding\n",
    "data = pd.get_dummies(data, columns=['Display Resolution', 'color', 'Operating System'])\n"
   ]
  },
  {
   "cell_type": "code",
   "execution_count": 57,
   "id": "798d82bd",
   "metadata": {},
   "outputs": [],
   "source": [
    "# Split the dataset into features (X) and the target variable (y)\n",
    "X = data.drop(['Brand' , 'Name'], axis=1)\n",
    "y = data['Brand']\n"
   ]
  },
  {
   "cell_type": "code",
   "execution_count": 58,
   "id": "b9d70539",
   "metadata": {},
   "outputs": [],
   "source": [
    "# Split the data into training and testing sets\n",
    "X_train, X_test, y_train, y_test = train_test_split(X, y, test_size=0.2, random_state=42)\n"
   ]
  },
  {
   "cell_type": "code",
   "execution_count": 59,
   "id": "a94991b6",
   "metadata": {},
   "outputs": [],
   "source": [
    "# Scale the features\n",
    "scaler = StandardScaler()\n",
    "X_train = scaler.fit_transform(X_train)\n",
    "X_test = scaler.transform(X_test)\n",
    "\n",
    "# Define the classifiers\n",
    "classifiers = {\n",
    "    'Logistic Regression': LogisticRegression(),\n",
    "    'SVM': SVC(),\n",
    "    'Decision Tree': DecisionTreeClassifier(),\n",
    "    'Random Forest': RandomForestClassifier()\n",
    "}\n"
   ]
  },
  {
   "cell_type": "code",
   "execution_count": 61,
   "id": "b0849057",
   "metadata": {},
   "outputs": [
    {
     "name": "stdout",
     "output_type": "stream",
     "text": [
      "Logistic Regression accuracy: 0.85\n",
      "              precision    recall  f1-score   support\n",
      "\n",
      "         BBK       1.00      0.50      0.67         4\n",
      "      Huawei       0.86      1.00      0.92         6\n",
      "      Lenovo       1.00      1.00      1.00         2\n",
      "    Motorola       0.33      1.00      0.50         1\n",
      "     OnePlus       1.00      1.00      1.00         4\n",
      "        Oppo       1.00      0.67      0.80         3\n",
      "\n",
      "    accuracy                           0.85        20\n",
      "   macro avg       0.87      0.86      0.81        20\n",
      "weighted avg       0.92      0.85      0.86        20\n",
      "\n",
      "SVM accuracy: 0.75\n",
      "              precision    recall  f1-score   support\n",
      "\n",
      "         BBK       1.00      0.50      0.67         4\n",
      "      Huawei       0.67      1.00      0.80         6\n",
      "      Lenovo       0.00      0.00      0.00         2\n",
      "    Motorola       0.33      1.00      0.50         1\n",
      "     OnePlus       1.00      1.00      1.00         4\n",
      "        Oppo       1.00      0.67      0.80         3\n",
      "\n",
      "    accuracy                           0.75        20\n",
      "   macro avg       0.67      0.69      0.63        20\n",
      "weighted avg       0.77      0.75      0.72        20\n",
      "\n",
      "Decision Tree accuracy: 0.80\n",
      "              precision    recall  f1-score   support\n",
      "\n",
      "         BBK       0.50      0.75      0.60         4\n",
      "      Huawei       1.00      1.00      1.00         6\n",
      "      Lenovo       1.00      1.00      1.00         2\n",
      "    Motorola       0.00      0.00      0.00         1\n",
      "     OnePlus       1.00      0.50      0.67         4\n",
      "        Oppo       1.00      1.00      1.00         3\n",
      "\n",
      "    accuracy                           0.80        20\n",
      "   macro avg       0.75      0.71      0.71        20\n",
      "weighted avg       0.85      0.80      0.80        20\n",
      "\n"
     ]
    },
    {
     "name": "stderr",
     "output_type": "stream",
     "text": [
      "c:\\Users\\DELL\\AppData\\Local\\Programs\\Python\\Python310\\lib\\site-packages\\sklearn\\metrics\\_classification.py:1344: UndefinedMetricWarning: Precision and F-score are ill-defined and being set to 0.0 in labels with no predicted samples. Use `zero_division` parameter to control this behavior.\n",
      "  _warn_prf(average, modifier, msg_start, len(result))\n",
      "c:\\Users\\DELL\\AppData\\Local\\Programs\\Python\\Python310\\lib\\site-packages\\sklearn\\metrics\\_classification.py:1344: UndefinedMetricWarning: Precision and F-score are ill-defined and being set to 0.0 in labels with no predicted samples. Use `zero_division` parameter to control this behavior.\n",
      "  _warn_prf(average, modifier, msg_start, len(result))\n",
      "c:\\Users\\DELL\\AppData\\Local\\Programs\\Python\\Python310\\lib\\site-packages\\sklearn\\metrics\\_classification.py:1344: UndefinedMetricWarning: Precision and F-score are ill-defined and being set to 0.0 in labels with no predicted samples. Use `zero_division` parameter to control this behavior.\n",
      "  _warn_prf(average, modifier, msg_start, len(result))\n"
     ]
    },
    {
     "name": "stdout",
     "output_type": "stream",
     "text": [
      "Random Forest accuracy: 0.90\n",
      "              precision    recall  f1-score   support\n",
      "\n",
      "         BBK       1.00      1.00      1.00         4\n",
      "      Huawei       1.00      1.00      1.00         6\n",
      "      Lenovo       0.00      0.00      0.00         2\n",
      "    Motorola       0.33      1.00      0.50         1\n",
      "     OnePlus       1.00      1.00      1.00         4\n",
      "        Oppo       1.00      1.00      1.00         3\n",
      "\n",
      "    accuracy                           0.90        20\n",
      "   macro avg       0.72      0.83      0.75        20\n",
      "weighted avg       0.87      0.90      0.88        20\n",
      "\n"
     ]
    },
    {
     "name": "stderr",
     "output_type": "stream",
     "text": [
      "c:\\Users\\DELL\\AppData\\Local\\Programs\\Python\\Python310\\lib\\site-packages\\sklearn\\metrics\\_classification.py:1344: UndefinedMetricWarning: Precision and F-score are ill-defined and being set to 0.0 in labels with no predicted samples. Use `zero_division` parameter to control this behavior.\n",
      "  _warn_prf(average, modifier, msg_start, len(result))\n",
      "c:\\Users\\DELL\\AppData\\Local\\Programs\\Python\\Python310\\lib\\site-packages\\sklearn\\metrics\\_classification.py:1344: UndefinedMetricWarning: Precision and F-score are ill-defined and being set to 0.0 in labels with no predicted samples. Use `zero_division` parameter to control this behavior.\n",
      "  _warn_prf(average, modifier, msg_start, len(result))\n",
      "c:\\Users\\DELL\\AppData\\Local\\Programs\\Python\\Python310\\lib\\site-packages\\sklearn\\metrics\\_classification.py:1344: UndefinedMetricWarning: Precision and F-score are ill-defined and being set to 0.0 in labels with no predicted samples. Use `zero_division` parameter to control this behavior.\n",
      "  _warn_prf(average, modifier, msg_start, len(result))\n"
     ]
    }
   ],
   "source": [
    "# Train and evaluate the classifiers\n",
    "for name, clf in classifiers.items():\n",
    "    clf.fit(X_train, y_train)\n",
    "    y_pred = clf.predict(X_test)\n",
    "    report= classification_report(y_test, y_pred)\n",
    "    accuracy = accuracy_score(y_test, y_pred)\n",
    "    print(f\"{name} accuracy: {accuracy:.2f}\")\n",
    "    print(report)"
   ]
  },
  {
   "cell_type": "code",
   "execution_count": 62,
   "id": "02e7a234",
   "metadata": {},
   "outputs": [
    {
     "name": "stdout",
     "output_type": "stream",
     "text": [
      "[[4 0 0 0 0 0]\n",
      " [0 6 0 0 0 0]\n",
      " [0 0 0 2 0 0]\n",
      " [0 0 0 1 0 0]\n",
      " [0 0 0 0 4 0]\n",
      " [0 0 0 0 0 3]]\n"
     ]
    }
   ],
   "source": [
    "# Print confusion matrix\n",
    "conf_matrix = confusion_matrix(y_test, y_pred)\n",
    "print(conf_matrix)"
   ]
  },
  {
   "cell_type": "code",
   "execution_count": 70,
   "id": "01b21cbf",
   "metadata": {},
   "outputs": [
    {
     "name": "stdout",
     "output_type": "stream",
     "text": [
      "TP:  [4 6 0 1 4 3]\n",
      "TN:  [16 14 18 17 16 17]\n",
      "FP:  [0 0 0 2 0 0]\n",
      "FN:  [0 0 2 0 0 0]\n",
      "TP:  18\n",
      "TN:  98\n",
      "FP:  2\n",
      "FN:  2\n"
     ]
    }
   ],
   "source": [
    "# Calculate FP,FN,TP, TN\n",
    "FP = conf_matrix.sum(axis=0) - np.diag(conf_matrix)\n",
    "FN = conf_matrix.sum(axis=1) - np.diag(conf_matrix)\n",
    "TP = np.diag(conf_matrix)\n",
    "TN = conf_matrix.sum() - (FP + FN + TP)\n",
    "\n",
    "# Print TP, TN, FP, FN for each class\n",
    "print(\"TP: \", TP)\n",
    "print(\"TN: \", TN)\n",
    "print(\"FP: \", FP)\n",
    "print(\"FN: \", FN)\n",
    "\n",
    "# Print the total TP, TN, FP, FN \n",
    "total_TP = sum(TP)\n",
    "total_TN = sum(TN)\n",
    "total_FP = sum(FP)\n",
    "total_FN = sum(FN)\n",
    "\n",
    "print(\"TP: \", total_TP)\n",
    "print(\"TN: \", total_TN)\n",
    "print(\"FP: \", total_FP)\n",
    "print(\"FN: \", total_FN)\n"
   ]
  }
 ],
 "metadata": {
  "kernelspec": {
   "display_name": "Python 3 (ipykernel)",
   "language": "python",
   "name": "python3"
  },
  "language_info": {
   "codemirror_mode": {
    "name": "ipython",
    "version": 3
   },
   "file_extension": ".py",
   "mimetype": "text/x-python",
   "name": "python",
   "nbconvert_exporter": "python",
   "pygments_lexer": "ipython3",
   "version": "3.10.7"
  }
 },
 "nbformat": 4,
 "nbformat_minor": 5
}
